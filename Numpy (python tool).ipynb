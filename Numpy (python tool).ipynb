{
 "cells": [
  {
   "cell_type": "code",
   "execution_count": 6,
   "id": "7d9ebdc9",
   "metadata": {},
   "outputs": [
    {
     "ename": "TypeError",
     "evalue": "can only assign an iterable",
     "output_type": "error",
     "traceback": [
      "\u001b[1;31m---------------------------------------------------------------------------\u001b[0m",
      "\u001b[1;31mTypeError\u001b[0m                                 Traceback (most recent call last)",
      "\u001b[1;32m~\\AppData\\Local\\Temp\\ipykernel_3560\\3330765518.py\u001b[0m in \u001b[0;36m<module>\u001b[1;34m\u001b[0m\n\u001b[0;32m      1\u001b[0m \u001b[0ma\u001b[0m\u001b[1;33m=\u001b[0m\u001b[1;33m[\u001b[0m\u001b[1;36m1\u001b[0m\u001b[1;33m,\u001b[0m\u001b[1;36m2\u001b[0m\u001b[1;33m,\u001b[0m\u001b[1;36m3\u001b[0m\u001b[1;33m]\u001b[0m\u001b[1;31m#without using append function\u001b[0m\u001b[1;33m\u001b[0m\u001b[1;33m\u001b[0m\u001b[0m\n\u001b[0;32m      2\u001b[0m \u001b[0mb\u001b[0m\u001b[1;33m=\u001b[0m\u001b[0mlen\u001b[0m\u001b[1;33m(\u001b[0m\u001b[0ma\u001b[0m\u001b[1;33m)\u001b[0m\u001b[1;33m\u001b[0m\u001b[1;33m\u001b[0m\u001b[0m\n\u001b[1;32m----> 3\u001b[1;33m \u001b[0ma\u001b[0m\u001b[1;33m[\u001b[0m\u001b[0mb\u001b[0m\u001b[1;33m-\u001b[0m\u001b[1;36m1\u001b[0m\u001b[1;33m:\u001b[0m\u001b[1;33m]\u001b[0m\u001b[1;33m=\u001b[0m\u001b[1;36m10\u001b[0m\u001b[1;33m\u001b[0m\u001b[1;33m\u001b[0m\u001b[0m\n\u001b[0m\u001b[0;32m      4\u001b[0m \u001b[0mprint\u001b[0m\u001b[1;33m(\u001b[0m\u001b[0ma\u001b[0m\u001b[1;33m)\u001b[0m\u001b[1;33m\u001b[0m\u001b[1;33m\u001b[0m\u001b[0m\n",
      "\u001b[1;31mTypeError\u001b[0m: can only assign an iterable"
     ]
    }
   ],
   "source": [
    "a=[1,2,3]#without using append function\n",
    "b=len(a)\n",
    "a[b-1:]=[10]\n",
    "print(a)"
   ]
  },
  {
   "cell_type": "code",
   "execution_count": 14,
   "id": "6698b99f",
   "metadata": {},
   "outputs": [
    {
     "name": "stdout",
     "output_type": "stream",
     "text": [
      "1\n",
      "(5,)\n"
     ]
    }
   ],
   "source": [
    "import numpy\n",
    "a=[1,2,3,4,5]\n",
    "b=[6,7,8]\n",
    "c=numpy.array(a)\n",
    "print(c.ndim)\n",
    "print(c.shape)#\n"
   ]
  },
  {
   "cell_type": "code",
   "execution_count": 8,
   "id": "02fc1bb4",
   "metadata": {},
   "outputs": [
    {
     "ename": "AttributeError",
     "evalue": "'list' object has no attribute 'shape'",
     "output_type": "error",
     "traceback": [
      "\u001b[1;31m---------------------------------------------------------------------------\u001b[0m",
      "\u001b[1;31mAttributeError\u001b[0m                            Traceback (most recent call last)",
      "\u001b[1;32m~\\AppData\\Local\\Temp\\ipykernel_3560\\4095233962.py\u001b[0m in \u001b[0;36m<module>\u001b[1;34m\u001b[0m\n\u001b[0;32m      1\u001b[0m \u001b[1;32mimport\u001b[0m \u001b[0mnumpy\u001b[0m\u001b[1;31m#if it is not working keep ipip install numpy\u001b[0m\u001b[1;33m\u001b[0m\u001b[1;33m\u001b[0m\u001b[0m\n\u001b[0;32m      2\u001b[0m \u001b[0ma\u001b[0m\u001b[1;33m=\u001b[0m\u001b[1;33m[\u001b[0m\u001b[1;36m1\u001b[0m\u001b[1;33m,\u001b[0m\u001b[1;36m2\u001b[0m\u001b[1;33m,\u001b[0m\u001b[1;36m3\u001b[0m\u001b[1;33m,\u001b[0m\u001b[1;36m4\u001b[0m\u001b[1;33m,\u001b[0m\u001b[1;36m5\u001b[0m\u001b[1;33m]\u001b[0m\u001b[1;33m\u001b[0m\u001b[1;33m\u001b[0m\u001b[0m\n\u001b[1;32m----> 3\u001b[1;33m \u001b[0ma\u001b[0m\u001b[1;33m.\u001b[0m\u001b[0mshape\u001b[0m\u001b[1;33m\u001b[0m\u001b[1;33m\u001b[0m\u001b[0m\n\u001b[0m",
      "\u001b[1;31mAttributeError\u001b[0m: 'list' object has no attribute 'shape'"
     ]
    }
   ],
   "source": [
    "import numpy#if it is not working keep ipip install numpy\n",
    "a=[1,2,3,4,5]\n",
    "a.shape"
   ]
  },
  {
   "cell_type": "code",
   "execution_count": 22,
   "id": "50400094",
   "metadata": {},
   "outputs": [
    {
     "name": "stdout",
     "output_type": "stream",
     "text": [
      "2\n",
      "(2, 3)\n",
      "[[1 2 3]\n",
      " [7 8 9]]\n",
      "6\n"
     ]
    }
   ],
   "source": [
    "import numpy\n",
    "a=([[1,2,3],[7,8,9,]])\n",
    "b=[6,7,8]\n",
    "c=numpy.array(a)\n",
    "print(c.ndim)\n",
    "print(c.shape)#\n",
    "print(c)\n",
    "print(c.size)"
   ]
  },
  {
   "cell_type": "code",
   "execution_count": 23,
   "id": "4e3b0201",
   "metadata": {},
   "outputs": [
    {
     "name": "stdout",
     "output_type": "stream",
     "text": [
      "3\n",
      "(1, 3, 3)\n",
      "[[[1 2 3]\n",
      "  [7 8 9]\n",
      "  [4 5 6]]]\n",
      "9\n"
     ]
    }
   ],
   "source": [
    "import numpy\n",
    "a=([[[1,2,3],[7,8,9,],[4,5,6]]])\n",
    "b=[6,7,8]\n",
    "c=numpy.array(a)\n",
    "print(c.ndim)\n",
    "print(c.shape)#\n",
    "print(c)\n",
    "print(c.size)"
   ]
  },
  {
   "cell_type": "code",
   "execution_count": 24,
   "id": "e2805b47",
   "metadata": {},
   "outputs": [
    {
     "name": "stdout",
     "output_type": "stream",
     "text": [
      "4\n"
     ]
    }
   ],
   "source": [
    "#ascessing values\n",
    "a=[1,2,3,4]\n",
    "c=numpy.array(a)\n",
    "print(c[3])"
   ]
  },
  {
   "cell_type": "code",
   "execution_count": 26,
   "id": "48a7e8b9",
   "metadata": {},
   "outputs": [
    {
     "name": "stdout",
     "output_type": "stream",
     "text": [
      "5\n",
      "3\n"
     ]
    }
   ],
   "source": [
    "#i want to ascess 5\n",
    "a=([[1,2,3],[4,5,6]])\n",
    "c=numpy.array(a)\n",
    "print(c[1][1])\n",
    "print(c[0][2])\n"
   ]
  },
  {
   "cell_type": "code",
   "execution_count": 31,
   "id": "2734f5c5",
   "metadata": {},
   "outputs": [
    {
     "name": "stdout",
     "output_type": "stream",
     "text": [
      "[[[1 2 3]\n",
      "  [4 5 6]]]\n",
      "(1, 2, 3)\n",
      "6\n"
     ]
    }
   ],
   "source": [
    "a=([[[1,2,3],[4,5,6]]])\n",
    "c=numpy.array(a)\n",
    "print(c)\n",
    "print(c.shape)\n",
    "# i want to get 6\n",
    "print(c[0][1][2])"
   ]
  },
  {
   "cell_type": "code",
   "execution_count": 47,
   "id": "5a2dc2c9",
   "metadata": {},
   "outputs": [
    {
     "name": "stdout",
     "output_type": "stream",
     "text": [
      "1 2 3 4 5 6 7 8 9 10 \n",
      "[ 1  2  3  4  5  6  7  8  9 10]\n"
     ]
    }
   ],
   "source": [
    "#arrange \n",
    "import numpy\n",
    "a=10\n",
    "for i in range(1,a+1):\n",
    "    print(i,end=' ')\n",
    "#by arrange function\n",
    "print('')\n",
    "b=numpy.arange(1,11)\n",
    "print(b)\n"
   ]
  },
  {
   "cell_type": "code",
   "execution_count": 39,
   "id": "f3397375",
   "metadata": {},
   "outputs": [
    {
     "name": "stdout",
     "output_type": "stream",
     "text": [
      "[10.  12.5 15.  17.5 20. ]\n"
     ]
    }
   ],
   "source": [
    "#Line space\n",
    "import numpy\n",
    "a=numpy.linspace(10,20,5)\n",
    "print(a)"
   ]
  },
  {
   "cell_type": "code",
   "execution_count": 44,
   "id": "34a5ec42",
   "metadata": {},
   "outputs": [
    {
     "name": "stdout",
     "output_type": "stream",
     "text": [
      "[[0 0]\n",
      " [0 0]\n",
      " [0 0]]\n"
     ]
    }
   ],
   "source": [
    "#Zeros\n",
    "import numpy\n",
    "a=numpy.zeros((3,2),dtype=int)\n",
    "print(a)"
   ]
  },
  {
   "cell_type": "code",
   "execution_count": 45,
   "id": "fda95a99",
   "metadata": {},
   "outputs": [
    {
     "name": "stdout",
     "output_type": "stream",
     "text": [
      "[[1 1 1]\n",
      " [1 1 1]\n",
      " [1 1 1]]\n"
     ]
    }
   ],
   "source": [
    "#ones\n",
    "d=numpy.ones((3,3),dtype=int)\n",
    "print(d)"
   ]
  },
  {
   "cell_type": "code",
   "execution_count": 52,
   "id": "0c3b1e1b",
   "metadata": {},
   "outputs": [
    {
     "name": "stdout",
     "output_type": "stream",
     "text": [
      "[[ 1  2  3  4  5  6]\n",
      " [ 7  8  9 10 11 12]\n",
      " [13 14 15 16 17 18]\n",
      " [19 20 21 22 23 24]\n",
      " [25 26 27 28 29 30]\n",
      " [31 32 33 34 35 36]\n",
      " [37 38 39 40 41 42]\n",
      " [43 44 45 46 47 48]\n",
      " [49 50 51 52 53 54]\n",
      " [55 56 57 58 59 60]]\n"
     ]
    }
   ],
   "source": [
    "c=numpy.arange(1,61)\n",
    "d=c.reshape(10,6)\n",
    "print(d)"
   ]
  },
  {
   "cell_type": "code",
   "execution_count": 55,
   "id": "83a6eb23",
   "metadata": {},
   "outputs": [
    {
     "name": "stdout",
     "output_type": "stream",
     "text": [
      "[[[ 1  2  3  4  5  6]\n",
      "  [ 7  8  9 10 11 12]]\n",
      "\n",
      " [[13 14 15 16 17 18]\n",
      "  [19 20 21 22 23 24]]\n",
      "\n",
      " [[25 26 27 28 29 30]\n",
      "  [31 32 33 34 35 36]]\n",
      "\n",
      " [[37 38 39 40 41 42]\n",
      "  [43 44 45 46 47 48]]\n",
      "\n",
      " [[49 50 51 52 53 54]\n",
      "  [55 56 57 58 59 60]]]\n",
      "53\n"
     ]
    }
   ],
   "source": [
    "c1=c.reshape(5,2,6)\n",
    "print(c1)\n",
    "print(c1[4][0][4])"
   ]
  },
  {
   "cell_type": "code",
   "execution_count": 63,
   "id": "7495d624",
   "metadata": {},
   "outputs": [
    {
     "name": "stdout",
     "output_type": "stream",
     "text": [
      "[[ 1  2  3  4  5  6]\n",
      " [ 7  8  9 10 11 12]\n",
      " [13 14 15 16 17 18]\n",
      " [19 20 21 22 23 24]\n",
      " [25 26 27 28 29 30]\n",
      " [31 32 33 34 35 36]\n",
      " [37 38 39 40 41 42]\n",
      " [43 44 45 46 47 48]\n",
      " [49 50 51 52 53 54]\n",
      " [55 56 57 58 59 60]]\n",
      "[ 21  57  93 129 165 201 237 273 309 345]\n",
      "[280 290 300 310 320 330]\n",
      "57\n"
     ]
    }
   ],
   "source": [
    "#axis\n",
    "# for rows axis is 1\n",
    "#for columns axis is 0\n",
    "a=numpy.arange(1,61).reshape(10,6)\n",
    "print(a)\n",
    "print(a.sum(1))#rows  sum\n",
    "print(a.sum(0))#columns sum\n",
    "a.sum(axis=1)\n",
    "print(a[1].sum())"
   ]
  },
  {
   "cell_type": "code",
   "execution_count": 67,
   "id": "cff086da",
   "metadata": {},
   "outputs": [
    {
     "name": "stdout",
     "output_type": "stream",
     "text": [
      "(10, 6)\n",
      "(10, 6)\n",
      "(20, 6)\n",
      "[[ 1  2  3  4  5  6]\n",
      " [ 7  8  9 10 11 12]\n",
      " [13 14 15 16 17 18]\n",
      " [19 20 21 22 23 24]\n",
      " [25 26 27 28 29 30]\n",
      " [31 32 33 34 35 36]\n",
      " [37 38 39 40 41 42]\n",
      " [43 44 45 46 47 48]\n",
      " [49 50 51 52 53 54]\n",
      " [55 56 57 58 59 60]\n",
      " [ 1  2  3  4  5  6]\n",
      " [ 7  8  9 10 11 12]\n",
      " [13 14 15 16 17 18]\n",
      " [19 20 21 22 23 24]\n",
      " [25 26 27 28 29 30]\n",
      " [31 32 33 34 35 36]\n",
      " [37 38 39 40 41 42]\n",
      " [43 44 45 46 47 48]\n",
      " [49 50 51 52 53 54]\n",
      " [55 56 57 58 59 60]]\n",
      "[[ 1  2  3  4  5  6  1  2  3  4  5  6]\n",
      " [ 7  8  9 10 11 12  7  8  9 10 11 12]\n",
      " [13 14 15 16 17 18 13 14 15 16 17 18]\n",
      " [19 20 21 22 23 24 19 20 21 22 23 24]\n",
      " [25 26 27 28 29 30 25 26 27 28 29 30]\n",
      " [31 32 33 34 35 36 31 32 33 34 35 36]\n",
      " [37 38 39 40 41 42 37 38 39 40 41 42]\n",
      " [43 44 45 46 47 48 43 44 45 46 47 48]\n",
      " [49 50 51 52 53 54 49 50 51 52 53 54]\n",
      " [55 56 57 58 59 60 55 56 57 58 59 60]]\n"
     ]
    }
   ],
   "source": [
    "a=numpy.arange(1,61).reshape(10,6)\n",
    "print(a.shape)\n",
    "b=numpy.arange(1,61).reshape(10,6)\n",
    "print(b.shape)\n",
    "c=numpy.vstack((a,b))\n",
    "print(c.shape)\n",
    "print(c)\n",
    "d=numpy.hstack((a,b))\n",
    "print(d)"
   ]
  },
  {
   "cell_type": "code",
   "execution_count": 69,
   "id": "32b3d47b",
   "metadata": {},
   "outputs": [
    {
     "name": "stdout",
     "output_type": "stream",
     "text": [
      "[[1 0 0]\n",
      " [0 2 0]\n",
      " [0 0 3]]\n"
     ]
    }
   ],
   "source": [
    "#diag\n",
    "a=[1,2,3]\n",
    "c=numpy.diag(a)\n",
    "print(c)\n"
   ]
  },
  {
   "cell_type": "code",
   "execution_count": 75,
   "id": "31510b45",
   "metadata": {},
   "outputs": [
    {
     "name": "stdout",
     "output_type": "stream",
     "text": [
      "[[1 2 3]\n",
      " [4 5 6]\n",
      " [1 2 3]\n",
      " [4 5 6]]\n"
     ]
    }
   ],
   "source": [
    "#transpose\n",
    "a=([[1,2,3],[4,5,6]])\n",
    "e=([[7,8,9],[9,8,7]])\n",
    "b=numpy.array(a)\n",
    "c=numpy.concatenate((a,b))\n",
    "print(c)"
   ]
  },
  {
   "cell_type": "code",
   "execution_count": 3,
   "id": "4e3ff218",
   "metadata": {},
   "outputs": [
    {
     "name": "stdout",
     "output_type": "stream",
     "text": [
      "100\n",
      "[2.20264658e+04 4.85165195e+08 1.06864746e+13 2.35385267e+17]\n"
     ]
    }
   ],
   "source": [
    "import numpy\n",
    "a=[10,20,30,40,]\n",
    "c=numpy.array(a)\n",
    "print(numpy.sum(c))\n",
    "print(numpy.exp(c))"
   ]
  },
  {
   "cell_type": "code",
   "execution_count": 8,
   "id": "5ccbb71f",
   "metadata": {},
   "outputs": [
    {
     "data": {
      "text/plain": [
       "array([[ 0.30632951, -0.63757096,  0.33884499, -0.5071213 ],\n",
       "       [ 1.18464689, -0.35920349,  0.2928119 , -0.99778388],\n",
       "       [ 1.12128585,  0.3108014 ,  0.30885619, -0.7552511 ]])"
      ]
     },
     "execution_count": 8,
     "metadata": {},
     "output_type": "execute_result"
    }
   ],
   "source": [
    "#randm\n",
    "numpy.random.randint(10,100)\n",
    "numpy.random.rand(3,4)\n",
    "numpy.random.randn(3,4)"
   ]
  },
  {
   "cell_type": "code",
   "execution_count": 7,
   "id": "d1f09624",
   "metadata": {},
   "outputs": [
    {
     "data": {
      "text/plain": [
       "'1.21.5'"
      ]
     },
     "execution_count": 7,
     "metadata": {},
     "output_type": "execute_result"
    }
   ],
   "source": [
    "numpy.__version__\n"
   ]
  },
  {
   "cell_type": "code",
   "execution_count": 13,
   "id": "5b84a267",
   "metadata": {},
   "outputs": [
    {
     "data": {
      "text/plain": [
       "array([['j', 'j', 'j', 'j', 'j'],\n",
       "       ['j', 'j', 'j', 'j', 'j'],\n",
       "       ['j', 'j', 'j', 'j', 'j'],\n",
       "       ['j', 'j', 'j', 'j', 'j'],\n",
       "       ['j', 'j', 'j', 'j', 'j']], dtype='<U1')"
      ]
     },
     "execution_count": 13,
     "metadata": {},
     "output_type": "execute_result"
    }
   ],
   "source": [
    "#full method\n",
    "numpy.full((5,5),'jaga',dtype=str)"
   ]
  },
  {
   "cell_type": "code",
   "execution_count": 14,
   "id": "c8967f57",
   "metadata": {},
   "outputs": [
    {
     "name": "stdout",
     "output_type": "stream",
     "text": [
      "[10 20 30 40 50]\n"
     ]
    }
   ],
   "source": [
    "#filter \n",
    "a=[10,20,30,40,50]\n",
    "c=numpy.array(a)\n",
    "print(c)"
   ]
  },
  {
   "cell_type": "code",
   "execution_count": 19,
   "id": "ecfa6d6d",
   "metadata": {},
   "outputs": [
    {
     "name": "stdout",
     "output_type": "stream",
     "text": [
      "[[ 10  20  30  40  50]\n",
      " [100 200 300 400 500]]\n",
      "\n",
      "[[False False False False False]\n",
      " [False False False  True  True]]\n",
      "(2, 5)\n",
      "10\n"
     ]
    }
   ],
   "source": [
    "a=numpy.array([[10,20,30,40,50],[100,200,300,400,500]])\n",
    "print(a)\n",
    "print()\n",
    "print(a>300)\n",
    "print(a.shape)\n",
    "print(a.size)"
   ]
  },
  {
   "cell_type": "code",
   "execution_count": 26,
   "id": "2b8a2446",
   "metadata": {},
   "outputs": [
    {
     "name": "stdout",
     "output_type": "stream",
     "text": [
      "[[ 11  22  33  44  55]\n",
      " [106 207 308 409 510]]\n",
      "[[ 11  22  33  44  55]\n",
      " [106 207 308 409 510]]\n",
      "[[  10   40   90  160  250]\n",
      " [ 600 1400 2400 3600 5000]]\n",
      "[[10.         10.         10.         10.         10.        ]\n",
      " [16.66666667 28.57142857 37.5        44.44444444 50.        ]]\n"
     ]
    }
   ],
   "source": [
    "#arthemetic operations\n",
    "a=numpy.array([[10,20,30,40,50],[100,200,300,400,500]])\n",
    "b=numpy.array([[1,2,3,4,5],[6,7,8,9,10]])\n",
    "print(a+b)\n",
    "print(numpy.add(a,b))\n",
    "print(numpy.multiply(a,b))\n",
    "print(numpy.divide(a,b))"
   ]
  },
  {
   "cell_type": "code",
   "execution_count": 28,
   "id": "6cceff50",
   "metadata": {},
   "outputs": [
    {
     "name": "stdout",
     "output_type": "stream",
     "text": [
      "10\n",
      "10\n"
     ]
    }
   ],
   "source": [
    "b=numpy.array([[1,2,3,4,5],[6,7,8,9,10]])\n",
    "print(b.size)\n",
    "c=0\n",
    "for i in b:\n",
    "    for j in i:\n",
    "        c=c+1\n",
    "print(c)\n",
    "        "
   ]
  },
  {
   "cell_type": "code",
   "execution_count": 32,
   "id": "7e18f791",
   "metadata": {},
   "outputs": [
    {
     "name": "stdout",
     "output_type": "stream",
     "text": [
      "[3.5 4.5 5.5 6.5 7.5]\n"
     ]
    },
    {
     "data": {
      "text/plain": [
       "array([3., 8.])"
      ]
     },
     "execution_count": 32,
     "metadata": {},
     "output_type": "execute_result"
    }
   ],
   "source": [
    "numpy.mean(b)\n",
    "print(numpy.mean(b,axis=0))\n",
    "numpy.mean(b,axis=1)#rows"
   ]
  },
  {
   "cell_type": "code",
   "execution_count": 43,
   "id": "3a44b7c3",
   "metadata": {},
   "outputs": [
    {
     "name": "stdout",
     "output_type": "stream",
     "text": [
      "[10, 5, 4, 3, 3, 2]\n",
      "[2, 3, 3, 4, 5, 10]\n"
     ]
    }
   ],
   "source": [
    "a=[10,3,4,5,2,3]\n",
    "a.sort()\n",
    "a.sort(reverse=True)\n",
    "print(a)\n",
    "print(a[::-1])"
   ]
  },
  {
   "cell_type": "code",
   "execution_count": 45,
   "id": "6fe6e88e",
   "metadata": {},
   "outputs": [
    {
     "name": "stdout",
     "output_type": "stream",
     "text": [
      "[[ 1  2  3  4  5]\n",
      " [ 6 10  9  8  7]]\n",
      "[[ 1  2  3  4  5]\n",
      " [ 6  7  8  9 10]]\n",
      "[[ 6  7  8  9 10]\n",
      " [ 1  2  3  4  5]]\n"
     ]
    }
   ],
   "source": [
    "#sorting with numpy\n",
    "b=numpy.array([[1,2,3,4,5],[6,10,9,8,7]])\n",
    "print(b)\n",
    "print(numpy.sort(b))\n",
    "print(numpy.sort(b)[::-1])"
   ]
  },
  {
   "cell_type": "code",
   "execution_count": 48,
   "id": "7774357d",
   "metadata": {},
   "outputs": [
    {
     "name": "stdout",
     "output_type": "stream",
     "text": [
      "[[[ 1  2  3  4  5  6]\n",
      "  [ 7  8  9 10 11 12]]\n",
      "\n",
      " [[13 14 15 16 17 18]\n",
      "  [19 20 21 22 23 24]]\n",
      "\n",
      " [[25 26 27 28 29 30]\n",
      "  [31 32 33 34 35 36]]\n",
      "\n",
      " [[37 38 39 40 41 42]\n",
      "  [43 44 45 46 47 48]]\n",
      "\n",
      " [[49 50 51 52 53 54]\n",
      "  [55 56 57 58 59 60]]]\n"
     ]
    }
   ],
   "source": [
    "#3 dimension\n",
    "a=numpy.arange(1,61)\n",
    "c=a.reshape(5,2,6)\n",
    "print(c)"
   ]
  },
  {
   "cell_type": "code",
   "execution_count": 50,
   "id": "a56edf91",
   "metadata": {},
   "outputs": [
    {
     "data": {
      "text/plain": [
       "32"
      ]
     },
     "execution_count": 50,
     "metadata": {},
     "output_type": "execute_result"
    }
   ],
   "source": [
    "c[2][1][1]#2=rowss,1=cube face,1=column"
   ]
  },
  {
   "cell_type": "code",
   "execution_count": 1,
   "id": "367ab612",
   "metadata": {},
   "outputs": [
    {
     "name": "stdout",
     "output_type": "stream",
     "text": [
      "[[1 0 0 0 0]\n",
      " [0 1 0 0 0]\n",
      " [0 0 1 0 0]\n",
      " [0 0 0 1 0]\n",
      " [0 0 0 0 1]]\n"
     ]
    }
   ],
   "source": [
    "#identity matrix\n",
    "import numpy as np\n",
    "a=np.eye(5,5,dtype=int)\n",
    "print(a)"
   ]
  },
  {
   "cell_type": "code",
   "execution_count": null,
   "id": "158d98d5",
   "metadata": {},
   "outputs": [],
   "source": []
  }
 ],
 "metadata": {
  "kernelspec": {
   "display_name": "Python 3 (ipykernel)",
   "language": "python",
   "name": "python3"
  },
  "language_info": {
   "codemirror_mode": {
    "name": "ipython",
    "version": 3
   },
   "file_extension": ".py",
   "mimetype": "text/x-python",
   "name": "python",
   "nbconvert_exporter": "python",
   "pygments_lexer": "ipython3",
   "version": "3.9.13"
  }
 },
 "nbformat": 4,
 "nbformat_minor": 5
}
